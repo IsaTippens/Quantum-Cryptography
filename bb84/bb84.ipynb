{
 "cells": [
  {
   "cell_type": "markdown",
   "metadata": {},
   "source": [
    "## 1. Import Qiskit "
   ]
  },
  {
   "cell_type": "code",
   "execution_count": 1,
   "metadata": {},
   "outputs": [],
   "source": [
    "from qiskit import QuantumCircuit"
   ]
  },
  {
   "cell_type": "markdown",
   "metadata": {},
   "source": [
    "## 2. Generate Alice's bits and basis"
   ]
  },
  {
   "cell_type": "code",
   "execution_count": 2,
   "metadata": {},
   "outputs": [
    {
     "name": "stdout",
     "output_type": "stream",
     "text": [
      "Bits [1 1 0 1 0 1 1 1 1 0 1 1 1 1 1 0 0 1 1 1 1 0 1 0 1 0 1 0 1 1]\n",
      "Basis [0 1 0 1 0 0 1 1 0 1 1 0 1 0 0 0 0 1 1 0 0 0 1 0 1 0 0 1 0 1]\n",
      "States ['1', '-', '0', '-', '0', '1', '-', '-', '1', '+', '-', '1', '-', '1', '1', '0', '0', '-', '-', '1', '1', '0', '-', '0', '-', '0', '1', '+', '1', '-']\n"
     ]
    }
   ],
   "source": [
    "import numpy as np\n",
    "import bb84_helper \n",
    "\n",
    "n = 30 # number of qubits\n",
    "\n",
    "bits = np.random.randint(0, 2, n)\n",
    "basis = np.random.randint(0, 2, n)\n",
    "print('Bits', bits)\n",
    "print('Basis', basis)\n",
    "states = []\n",
    "\n",
    "for i in range(n):\n",
    "    state = bb84_helper.bit_basis_to_bb84(bits[i], basis[i])\n",
    "    states.append(state)\n",
    "\n",
    "print('States', states)"
   ]
  },
  {
   "cell_type": "markdown",
   "metadata": {},
   "source": [
    "## 3. Create BB84 States in a circuit"
   ]
  },
  {
   "cell_type": "code",
   "execution_count": 3,
   "metadata": {},
   "outputs": [],
   "source": [
    "def create_bb84_circuit(bits, basis):\n",
    "    if len(bits) != len(basis):\n",
    "        raise ValueError('Bits and basis must have the same length')\n",
    "    \n",
    "    n = len(bits)\n",
    "    qc = QuantumCircuit(n, n)\n",
    "    for i in range(n):\n",
    "        if basis[i] == 0:\n",
    "            if bits[i] == 0:\n",
    "                qc = bb84_helper.standard(qc, i)\n",
    "            else:\n",
    "                qc = bb84_helper.standard_flip(qc, i)\n",
    "        else:\n",
    "            if bits[i] == 0:\n",
    "                qc = bb84_helper.diagonal(qc, i)\n",
    "            else:\n",
    "                qc = bb84_helper.diagonal_flip(qc, i)\n",
    "    return qc\n",
    "\n",
    "qc = create_bb84_circuit(bits, basis)\n"
   ]
  },
  {
   "cell_type": "markdown",
   "metadata": {},
   "source": [
    "## 4. Bob Guesses states used by Alice"
   ]
  },
  {
   "cell_type": "code",
   "execution_count": 4,
   "metadata": {},
   "outputs": [
    {
     "name": "stdout",
     "output_type": "stream",
     "text": [
      "Guesses [0 0 0 0 1 1 1 1 1 0 1 1 1 0 0 0 1 1 1 0 0 0 0 1 0 1 1 1 1 0]\n"
     ]
    }
   ],
   "source": [
    "guesses = np.random.randint(0, 2, n)\n",
    "print('Guesses', guesses)"
   ]
  },
  {
   "cell_type": "markdown",
   "metadata": {},
   "source": [
    "## 5. Apply gates based on Bob's guesses"
   ]
  },
  {
   "cell_type": "code",
   "execution_count": 5,
   "metadata": {},
   "outputs": [],
   "source": [
    "qc.barrier()\n",
    "# If bob guesses the diagonal basis, apply the Hadamard gate\n",
    "for i in range(n):\n",
    "    if guesses[i] == 1:\n",
    "        qc.h(i)\n",
    "\n",
    "qc.measure_all(add_bits=False)\n",
    "\n",
    "\n",
    "# qc.draw(output='mpl')"
   ]
  },
  {
   "cell_type": "markdown",
   "metadata": {},
   "source": [
    "## 6. Measure Results"
   ]
  },
  {
   "cell_type": "code",
   "execution_count": 6,
   "metadata": {},
   "outputs": [
    {
     "name": "stdout",
     "output_type": "stream",
     "text": [
      "Result Result(backend_name='aer_simulator', backend_version='0.14.2', qobj_id='', job_id='c6faf0dd-63a9-4faa-812f-4f8134ef99f9', success=True, results=[ExperimentResult(shots=1, success=True, meas_level=2, data=ExperimentResultData(counts={'0x241f74c3': 1}), header=QobjExperimentHeader(creg_sizes=[['c', 30]], global_phase=0.0, memory_slots=30, n_qubits=30, name='circuit-166', qreg_sizes=[['q', 30]], metadata={}), status=DONE, seed_simulator=4090730646, metadata={'batched_shots_optimization': False, 'required_memory_mb': 16384, 'method': 'statevector', 'active_input_qubits': [0, 1, 2, 3, 4, 5, 6, 7, 8, 9, 10, 11, 12, 13, 14, 15, 16, 17, 18, 19, 20, 21, 22, 23, 24, 25, 26, 27, 28, 29], 'device': 'CPU', 'remapped_qubits': False, 'num_qubits': 30, 'num_clbits': 30, 'time_taken': 15.521301, 'sample_measure_time': 0.2927336, 'input_qubit_map': [[0, 0], [1, 1], [2, 2], [3, 3], [4, 4], [5, 5], [6, 6], [7, 7], [8, 8], [9, 9], [10, 10], [11, 11], [12, 12], [13, 13], [14, 14], [15, 15], [16, 16], [17, 17], [18, 18], [19, 19], [20, 20], [21, 21], [22, 22], [23, 23], [24, 24], [25, 25], [26, 26], [27, 27], [28, 28], [29, 29]], 'max_memory_mb': 32505, 'measure_sampling': True, 'noise': 'ideal', 'parallel_shots': 1, 'parallel_state_update': 32, 'runtime_parameter_bind': False, 'num_bind_params': 1, 'fusion': {'enabled': True, 'cost_factor': 1.8, 'threshold': 14, 'method': 'unitary', 'max_fused_qubits': 5, 'time_taken': 0.0005754, 'parallelization': 1, 'applied': True}}, time_taken=15.521301)], date=2024-09-05T09:05:37.381097, status=COMPLETED, header=None, metadata={'omp_enabled': True, 'parallel_experiments': 1, 'max_memory_mb': 32505, 'max_gpu_memory_mb': 0, 'time_taken_execute': 15.5214133, 'time_taken_parameter_binding': 4.65e-05}, time_taken=15.525911569595337)\n",
      "{'100100000111110111010011000011': 1}\n",
      "Bob's measurements [1 1 0 0 0 0 1 1 0 0 1 0 1 1 1 0 1 1 1 1 1 0 0 0 0 0 1 0 0 1]\n"
     ]
    }
   ],
   "source": [
    "from qiskit import transpile\n",
    "from qiskit_aer import AerSimulator\n",
    "\n",
    "def run_circuit(circuit):\n",
    "    simulator = AerSimulator()\n",
    "    circ = transpile(qc, simulator)\n",
    "\n",
    "    job = simulator.run(circ, shots=1)\n",
    "    return job.result(), circ\n",
    "\n",
    "result, circ = run_circuit(qc)\n",
    "print('Result', result)\n",
    "counts = result.get_counts(circ)\n",
    "print(counts)\n",
    "# Running one shot, take first index\n",
    "# reverse the key to get the order of the qubits\n",
    "bobs_measurements = np.array([int(key) for key in list(counts.keys())[0][::-1]])\n",
    "print('Bob\\'s measurements', bobs_measurements)\n"
   ]
  },
  {
   "cell_type": "markdown",
   "metadata": {},
   "source": [
    "## 7. Compare Basis"
   ]
  },
  {
   "cell_type": "code",
   "execution_count": 7,
   "metadata": {},
   "outputs": [
    {
     "name": "stdout",
     "output_type": "stream",
     "text": [
      "Alice's basis: [0 1 0 1 0 0 1 1 0 1 1 0 1 0 0 0 0 1 1 0 0 0 1 0 1 0 0 1 0 1]\n",
      "Bob's basis: [0 0 0 0 1 1 1 1 1 0 1 1 1 0 0 0 1 1 1 0 0 0 0 1 0 1 1 1 1 0]\n",
      "Number of correct bases: 15 (50.0%)\n",
      "Alice's key [1 0 1 1 1 1 1 1 0 1 1 1 1 0 0]\n",
      "Bob's key [1 0 1 1 1 1 1 1 0 1 1 1 1 0 0]\n",
      "New bases [0 0 1 1 1 1 0 0 0 1 1 0 0 0 1]\n"
     ]
    }
   ],
   "source": [
    "print(f\"Alice's basis: {basis}\")\n",
    "print(f\"Bob's basis: {guesses}\")\n",
    "\n",
    "def compare_bases(basis, guesses):\n",
    "    return np.sum(basis == guesses)\n",
    "\n",
    "\n",
    "correct_bases = compare_bases(basis, guesses)\n",
    "print(f\"Number of correct bases: {correct_bases} ({correct_bases/n*100}%)\")\n",
    "\n",
    "def discard_nonmatchingbases(bits, bases, guesses):\n",
    "    alices_key_bits = np.array([], dtype=int)\n",
    "    bobs_key_bits = np.array([], dtype=int)\n",
    "    new_bases = np.array([], dtype=int)\n",
    "    for i in range(len(bits)):\n",
    "        if bases[i] == guesses[i]:\n",
    "            alices_key_bits = np.append(alices_key_bits, [bits[i]])\n",
    "            bobs_key_bits = np.append(bobs_key_bits, [bobs_measurements[i]])\n",
    "            new_bases = np.append(new_bases, [bases[i]])\n",
    "\n",
    "    return alices_key_bits, bobs_key_bits, new_bases\n",
    "\n",
    "alice_key, bob_key, new_bases = discard_nonmatchingbases(bits, basis, guesses)\n",
    "print('Alice\\'s key', alice_key)\n",
    "print('Bob\\'s key', bob_key)\n",
    "print('New bases', new_bases)"
   ]
  },
  {
   "cell_type": "markdown",
   "metadata": {},
   "source": [
    "## Security - Check for eavesdropping"
   ]
  },
  {
   "cell_type": "markdown",
   "metadata": {},
   "source": [
    "### Choose random bits to share publicly"
   ]
  },
  {
   "cell_type": "code",
   "execution_count": 8,
   "metadata": {},
   "outputs": [
    {
     "name": "stdout",
     "output_type": "stream",
     "text": [
      "Indices [ 9  0 14]\n",
      "Alice's key sample [1 1 0]\n",
      "Bob's key sample [1 1 0]\n"
     ]
    }
   ],
   "source": [
    "# take 10% of measured bits at random\n",
    "n = len(alice_key)\n",
    "\n",
    "indices = np.random.choice(n, int(n*0.25), replace=False)\n",
    "print('Indices', indices)\n",
    "\n",
    "alice_key_sample = alice_key[indices]\n",
    "bob_key_sample = bob_key[indices]\n",
    "\n",
    "print('Alice\\'s key sample', alice_key_sample)\n",
    "print('Bob\\'s key sample', bob_key_sample)"
   ]
  },
  {
   "cell_type": "markdown",
   "metadata": {},
   "source": [
    "### Compare bits for interference"
   ]
  },
  {
   "cell_type": "code",
   "execution_count": 9,
   "metadata": {},
   "outputs": [
    {
     "name": "stdout",
     "output_type": "stream",
     "text": [
      "Keys match: 3 matches (100.0%)\n"
     ]
    }
   ],
   "source": [
    "# Error threshold to account of noise\n",
    "# range 0.0 to 1.0\n",
    "err_threshold = 0.1 # 10%\n",
    "\n",
    "def compare_keys(alice_key, bob_key):\n",
    "    return np.sum(alice_key == bob_key)\n",
    "\n",
    "correct_keys = compare_keys(alice_key_sample, bob_key_sample)\n",
    "corr_perc = correct_keys/len(alice_key_sample)*100\n",
    "if corr_perc > 1 - err_threshold:\n",
    "    print(f\"Keys match: {correct_keys} matches ({corr_perc}%)\")\n",
    "else:\n",
    "    print(f\"Keys do not match: {correct_keys} matches ({corr_perc}%)\")"
   ]
  }
 ],
 "metadata": {
  "kernelspec": {
   "display_name": "env",
   "language": "python",
   "name": "python3"
  },
  "language_info": {
   "codemirror_mode": {
    "name": "ipython",
    "version": 3
   },
   "file_extension": ".py",
   "mimetype": "text/x-python",
   "name": "python",
   "nbconvert_exporter": "python",
   "pygments_lexer": "ipython3",
   "version": "3.12.2"
  }
 },
 "nbformat": 4,
 "nbformat_minor": 2
}
