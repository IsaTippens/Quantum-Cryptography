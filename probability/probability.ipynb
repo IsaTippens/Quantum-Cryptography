{
 "cells": [
  {
   "cell_type": "markdown",
   "metadata": {},
   "source": [
    "## 1. Setup"
   ]
  },
  {
   "cell_type": "markdown",
   "metadata": {},
   "source": [
    "### 1.1 Import libraries"
   ]
  },
  {
   "cell_type": "code",
   "execution_count": 1,
   "metadata": {},
   "outputs": [],
   "source": [
    "from qiskit import QuantumCircuit\n",
    "from qiskit import transpile\n",
    "from qiskit_aer import AerSimulator\n",
    "import random"
   ]
  },
  {
   "cell_type": "markdown",
   "metadata": {},
   "source": [
    "### 1.2 Quantum Circuit Helper methods "
   ]
  },
  {
   "cell_type": "code",
   "execution_count": 2,
   "metadata": {},
   "outputs": [],
   "source": [
    "def run_circuit(circuit, shots=1):\n",
    "    simulator = AerSimulator()\n",
    "    circ = transpile(qc, simulator)\n",
    "\n",
    "    job = simulator.run(circ, shots=shots)\n",
    "    return job.result(), circ"
   ]
  },
  {
   "cell_type": "code",
   "execution_count": 3,
   "metadata": {},
   "outputs": [
    {
     "name": "stdout",
     "output_type": "stream",
     "text": [
      "{'10': 1000}\n"
     ]
    }
   ],
   "source": [
    "qc = QuantumCircuit(2, 2)\n",
    "\n",
    "qc.x(1)\n",
    "\n",
    "qc.measure(0, 0)\n",
    "qc.measure(1, 1)\n",
    "\n",
    "result, circ = run_circuit(qc, shots=1000)\n",
    "print(result.get_counts(circ))"
   ]
  },
  {
   "cell_type": "markdown",
   "metadata": {},
   "source": [
    "## 2. Test Single Qubit"
   ]
  },
  {
   "cell_type": "markdown",
   "metadata": {},
   "source": [
    "### 2.1 Create Encoded Qubits"
   ]
  },
  {
   "cell_type": "code",
   "execution_count": 4,
   "metadata": {},
   "outputs": [],
   "source": [
    "def init_qubit(qc, idx, state):\n",
    "    if state == 0:\n",
    "        pass\n",
    "    elif state == 1:\n",
    "        qc.x(idx)\n",
    "    elif state == 2:\n",
    "        qc.h(idx)\n",
    "    elif state == 3:\n",
    "        qc.x(idx)\n",
    "        qc.h(idx)\n",
    "    return qc\n",
    "\n",
    "def measure_in_basis(qc, idx, basis):\n",
    "    if basis == 0:\n",
    "        pass\n",
    "    elif basis == 1:\n",
    "        qc.h(idx)\n",
    "    return qc\n",
    "\n",
    "# |0>, |+> => 0\n",
    "# |1>, |-> => 1\n",
    "def state_to_bit(state):\n",
    "    if state % 2 == 0:\n",
    "        return 0\n",
    "    else:\n",
    "        return 1\n",
    "\n",
    "def validate(state, guess, result):\n",
    "    if guess == 0 and state in [0, 1]:\n",
    "        guess_correct = True\n",
    "    elif guess == 1 and state in [2, 3]:\n",
    "        guess_correct = True\n",
    "    else:\n",
    "        guess_correct = False\n",
    "        \n",
    "    result_correct = state_to_bit(state) == result\n",
    "\n",
    "    return guess_correct, result_correct\n"
   ]
  },
  {
   "cell_type": "markdown",
   "metadata": {},
   "source": [
    "### 2.2 Run 1000 times\n",
    "\n",
    "After 1000 samples, the number of correctly measured qubits should be ~75%. There is a 50% chance of guessing the correct basis."
   ]
  },
  {
   "cell_type": "code",
   "execution_count": 5,
   "metadata": {},
   "outputs": [
    {
     "name": "stdout",
     "output_type": "stream",
     "text": [
      "Correct guesses: 483 (48.3%)\n",
      "Correct results: 748 (74.8%)\n"
     ]
    }
   ],
   "source": [
    "n = 1000\n",
    "correct_guesses = 0\n",
    "correct_results = 0\n",
    "\n",
    "\n",
    "for i in range(n):\n",
    "    state = random.randint(0, 3)\n",
    "    qc = QuantumCircuit(1,1)\n",
    "    qc = init_qubit(qc, 0, state)\n",
    "\n",
    "    # guess state to measure\n",
    "    # 0: standard, 1: horizontal\n",
    "    guess = random.randint(0, 1)\n",
    "    qc = measure_in_basis(qc, 0, guess)\n",
    "\n",
    "    qc.measure_all(add_bits=False)\n",
    "\n",
    "    result, circ = run_circuit(qc)\n",
    "    counts = result.get_counts(circ)\n",
    "    guess_correct, result_correct = validate(state, guess, int(list(counts.keys())[0]))\n",
    "    \n",
    "    if guess_correct:\n",
    "        correct_guesses += 1\n",
    "    if result_correct:\n",
    "        correct_results += 1\n",
    "\n",
    "print(f\"Correct guesses: {correct_guesses} ({correct_guesses/n*100}%)\")\n",
    "print(f\"Correct results: {correct_results} ({correct_results/n*100}%)\")\n"
   ]
  },
  {
   "cell_type": "markdown",
   "metadata": {},
   "source": [
    "## 3. Scale Number of Qubits"
   ]
  },
  {
   "cell_type": "markdown",
   "metadata": {},
   "source": [
    "### 3.1 Helper methods\n"
   ]
  },
  {
   "cell_type": "code",
   "execution_count": 6,
   "metadata": {},
   "outputs": [],
   "source": [
    "def generate_state_set(n):\n",
    "    states = []\n",
    "    for i in range(n):\n",
    "        state = random.randint(0, 3)\n",
    "        states.append(state)\n",
    "    return states\n",
    "\n",
    "def generate_circuit_from_state_set(states):\n",
    "    n = len(states)\n",
    "    qc = QuantumCircuit(n, n)\n",
    "    for i in range(n):\n",
    "        qc = init_qubit(qc, i, states[i])\n",
    "\n",
    "    return qc\n",
    "\n",
    "def generate_guess_set(n):\n",
    "    guesses = []\n",
    "    for i in range(n):\n",
    "        guess = random.randint(0, 1)\n",
    "        guesses.append(guess)\n",
    "    return guesses\n",
    "\n",
    "def measure_circuit(qc, guesses):\n",
    "    n = len(guesses)\n",
    "    for i in range(n):\n",
    "        qc = measure_in_basis(qc, i, guesses[i])\n",
    "    return qc\n",
    "\n",
    "\n",
    "def validate_sets(states, guesses, results):\n",
    "    correct_results = False\n",
    "    correct_bits = 0\n",
    "    for i in range(len(states)):\n",
    "        state = states[i]\n",
    "        state_bit = state_to_bit(state)\n",
    "        result_bit = results[i]\n",
    "        if state_bit == result_bit:\n",
    "            correct_bits += 1\n",
    "\n",
    "    if correct_bits == len(states):\n",
    "        correct_results = True\n",
    "\n",
    "    # confirm that the guess was correct\n",
    "    correct_guesses = 0\n",
    "    for i in range(len(states)):\n",
    "        state = states[i]\n",
    "        guess = guesses[i]\n",
    "        if guess == 0 and state in [0, 1]:\n",
    "            correct_guesses += 1\n",
    "        elif guess == 1 and state in [2, 3]:\n",
    "            correct_guesses += 1\n",
    "    # number of correct guesses, correct result(true/false), number of correct bits\n",
    "    return correct_guesses, correct_results, correct_bits\n",
    "\n",
    "    \n",
    "\n",
    "def highest_probability_result(counts):\n",
    "    # choose the key with the highest value\n",
    "    return max(counts, key=counts.get)\n",
    "    \n",
    "\n"
   ]
  },
  {
   "cell_type": "markdown",
   "metadata": {},
   "source": [
    "### 3.2 Test up to 20 Qubits"
   ]
  },
  {
   "cell_type": "code",
   "execution_count": 7,
   "metadata": {},
   "outputs": [
    {
     "name": "stdout",
     "output_type": "stream",
     "text": [
      "1 Qubits\n",
      "Correct guesses: 459 (45.9%)\n",
      "Correct bits: 729 (72.89999999999999%)\n",
      "Correct results: 729 (72.89999999999999%)\n",
      "2 Qubits\n",
      "Correct guesses: 1013 (50.64999999999999%)\n",
      "Correct bits: 1548 (77.4%)\n",
      "Correct results: 604 (60.4%)\n",
      "3 Qubits\n",
      "Correct guesses: 1515 (50.5%)\n",
      "Correct bits: 2245 (74.83333333333333%)\n",
      "Correct results: 411 (41.099999999999994%)\n",
      "4 Qubits\n",
      "Correct guesses: 2030 (50.74999999999999%)\n",
      "Correct bits: 2996 (74.9%)\n",
      "Correct results: 315 (31.5%)\n",
      "5 Qubits\n",
      "Correct guesses: 2494 (49.88%)\n",
      "Correct bits: 3739 (74.78%)\n",
      "Correct results: 252 (25.2%)\n",
      "6 Qubits\n",
      "Correct guesses: 2927 (48.78333333333333%)\n",
      "Correct bits: 4478 (74.63333333333333%)\n",
      "Correct results: 179 (17.9%)\n",
      "7 Qubits\n",
      "Correct guesses: 3588 (51.25714285714286%)\n",
      "Correct bits: 5296 (75.65714285714286%)\n",
      "Correct results: 133 (13.3%)\n",
      "8 Qubits\n",
      "Correct guesses: 3944 (49.3%)\n",
      "Correct bits: 6002 (75.02499999999999%)\n",
      "Correct results: 110 (11.0%)\n",
      "9 Qubits\n",
      "Correct guesses: 4514 (50.15555555555555%)\n",
      "Correct bits: 6723 (74.7%)\n",
      "Correct results: 82 (8.200000000000001%)\n",
      "10 Qubits\n",
      "Correct guesses: 4992 (49.919999999999995%)\n",
      "Correct bits: 7492 (74.92%)\n",
      "Correct results: 43 (4.3%)\n",
      "11 Qubits\n",
      "Correct guesses: 5506 (50.054545454545455%)\n",
      "Correct bits: 8237 (74.88181818181818%)\n",
      "Correct results: 33 (3.3000000000000003%)\n",
      "12 Qubits\n",
      "Correct guesses: 5936 (49.46666666666666%)\n",
      "Correct bits: 8990 (74.91666666666667%)\n",
      "Correct results: 35 (3.5000000000000004%)\n",
      "13 Qubits\n",
      "Correct guesses: 6455 (49.65384615384615%)\n",
      "Correct bits: 9818 (75.52307692307693%)\n",
      "Correct results: 24 (2.4%)\n",
      "14 Qubits\n",
      "Correct guesses: 6967 (49.76428571428572%)\n",
      "Correct bits: 10514 (75.1%)\n",
      "Correct results: 22 (2.1999999999999997%)\n",
      "15 Qubits\n",
      "Correct guesses: 7496 (49.97333333333333%)\n",
      "Correct bits: 11270 (75.13333333333333%)\n",
      "Correct results: 21 (2.1%)\n",
      "16 Qubits\n",
      "Correct guesses: 8041 (50.25625%)\n",
      "Correct bits: 12030 (75.1875%)\n",
      "Correct results: 9 (0.8999999999999999%)\n",
      "17 Qubits\n",
      "Correct guesses: 8553 (50.311764705882354%)\n",
      "Correct bits: 12742 (74.95294117647059%)\n",
      "Correct results: 7 (0.7000000000000001%)\n",
      "18 Qubits\n",
      "Correct guesses: 8992 (49.955555555555556%)\n",
      "Correct bits: 13450 (74.72222222222223%)\n",
      "Correct results: 4 (0.4%)\n",
      "19 Qubits\n",
      "Correct guesses: 9415 (49.55263157894737%)\n",
      "Correct bits: 14254 (75.02105263157894%)\n",
      "Correct results: 3 (0.3%)\n",
      "20 Qubits\n",
      "Correct guesses: 10060 (50.3%)\n",
      "Correct bits: 15083 (75.41499999999999%)\n",
      "Correct results: 3 (0.3%)\n"
     ]
    }
   ],
   "source": [
    "NUM_QUBITS = 20\n",
    "\n",
    "measurement_results = []\n",
    "# run the experiment for 1 to 20 qubits\n",
    "for i in range(NUM_QUBITS):\n",
    "    total_correct_guesses = 0\n",
    "    total_correct_results = 0\n",
    "    total_correct_bits = 0\n",
    "    # run the experiment n times\n",
    "    # with unique sets of qubits and guesses\n",
    "    for j in range(n):\n",
    "        # generate a set of n encoded qubits\n",
    "        state = generate_state_set(i + 1)\n",
    "        qc = generate_circuit_from_state_set(state)\n",
    "\n",
    "        # generate a set of n basis guesses\n",
    "        guess = generate_guess_set(i + 1)\n",
    "        # measure each qubit in the basis\n",
    "        qc = measure_circuit(qc, guess)\n",
    "\n",
    "        # run the circuit\n",
    "        qc.measure_all(add_bits=False)\n",
    "        result, circ = run_circuit(qc)\n",
    "        counts = result.get_counts(circ)\n",
    "        results_str = highest_probability_result(counts)[::-1]\n",
    "        results = [int(c) for c in results_str]\n",
    "        \n",
    "        correct_guesses, correct_results, correct_bits = validate_sets(state, guess, results)\n",
    "        total_correct_guesses += correct_guesses\n",
    "        total_correct_bits += correct_bits\n",
    "        if correct_results:\n",
    "            total_correct_results += 1\n",
    "    print(f\"{i + 1} Qubits\")\n",
    "    print(f\"Correct guesses: {total_correct_guesses} ({total_correct_guesses/((i + 1) * n)*100}%)\")\n",
    "    print(f\"Correct bits: {total_correct_bits} ({total_correct_bits/((i + 1) * n)*100}%)\")\n",
    "    print(f\"Correct results: {total_correct_results} ({total_correct_results/n*100}%)\")\n",
    "    measurement_results.append({\n",
    "        \"qubits\": i + 1,\n",
    "        \"correct_guesses\": total_correct_guesses,\n",
    "\n",
    "        \"correct_bits\": total_correct_bits,\n",
    "        \"correct_results\": total_correct_results,\n",
    "        \"correct_results_percent\": total_correct_results/n*100\n",
    "    })"
   ]
  },
  {
   "cell_type": "markdown",
   "metadata": {},
   "source": [
    "### 3.3 Plot Results"
   ]
  },
  {
   "cell_type": "code",
   "execution_count": 8,
   "metadata": {},
   "outputs": [],
   "source": [
    "import matplotlib.pyplot as plt\n",
    "\n",
    "correct_results = [r[\"correct_results_percent\"] for r in measurement_results]\n",
    "correct_guesses = []\n",
    "for i in range(NUM_QUBITS):\n",
    "    correct_guesses.append(measurement_results[i][\"correct_guesses\"] / ((i + 1) * n) * 100)\n",
    "correct_bits = []\n",
    "for i in range(NUM_QUBITS):\n",
    "    correct_bits.append(measurement_results[i][\"correct_bits\"] / ((i + 1) * n) * 100)\n",
    "    \n",
    "qubits = [r[\"qubits\"] for r in measurement_results]"
   ]
  },
  {
   "cell_type": "markdown",
   "metadata": {},
   "source": [
    "### 3.3.1 Plot Actual Measurement vs Theoretical Measurement"
   ]
  },
  {
   "cell_type": "code",
   "execution_count": 18,
   "metadata": {},
   "outputs": [
    {
     "data": {
      "image/png": "[encoded data removed]",
      "text/plain": [
       "<Figure size 640x480 with 1 Axes>"
      ]
     },
     "metadata": {},
     "output_type": "display_data"
    }
   ],
   "source": [
    "plt.plot(qubits, [(3/4)**n * 100 for n in qubits], label=\"Theoretical chance of measuring all n qubits correctly - (3/4)^n\")\n",
    "plt.plot(qubits, correct_results, label=\"Actual % of correctly measuring all n qubits\")\n",
    "\n",
    "plt.legend()\n",
    "\n",
    "plt.xlabel(\"Number of Qubits\")\n",
    "plt.ylabel(\"Percentage\")\n",
    "plt.title(\"Actual vs Theoretical Measurements of Guessing Qubit States\")\n",
    "\n",
    "plt.xticks(range(1, NUM_QUBITS + 1))\n",
    "plt.yticks(range(0, 101, 10))\n",
    "plt.show()\n",
    "\n"
   ]
  },
  {
   "cell_type": "markdown",
   "metadata": {},
   "source": [
    "Wiesner's paper states that there's a 75% chance of measuring the correct result from a single encoded qubit. This scales expontentially as (3/4)^n where n is the number of qubits in the system. (blue curve)\n",
    "\n",
    "In this graph, we can see that our actual measurements (orange) follows the curve, but not too tightly."
   ]
  },
  {
   "cell_type": "markdown",
   "metadata": {},
   "source": [
    "### 3.3.2 Plot Guessing individual bit results"
   ]
  },
  {
   "cell_type": "code",
   "execution_count": 22,
   "metadata": {},
   "outputs": [
    {
     "data": {
      "image/png": "[encoded data removed]",
      "text/plain": [
       "<Figure size 640x480 with 1 Axes>"
      ]
     },
     "metadata": {},
     "output_type": "display_data"
    },
    {
     "data": {
      "image/png": "[encoded data removed]",
      "text/plain": [
       "<Figure size 640x480 with 1 Axes>"
      ]
     },
     "metadata": {},
     "output_type": "display_data"
    }
   ],
   "source": [
    "plt.bar(qubits, correct_guesses)\n",
    "plt.xlabel(\"Number of Qubits\")\n",
    "plt.ylabel(\"Percentage\")\n",
    "plt.title(f\"Correct Basis Measurement for n Qubits ({n} Samples)\")\n",
    "plt.xticks(range(1, 21))\n",
    "plt.yticks(range(0, 101, 10))\n",
    "plt.show()\n",
    "\n",
    "plt.bar(qubits, correct_bits)\n",
    "plt.xlabel(\"Number of Qubits\")\n",
    "plt.ylabel(\"Percentage\")\n",
    "plt.title(f\"Correct State Measurement for n Qubits ({n} Samples)\")\n",
    "plt.xticks(range(1, 21))\n",
    "plt.yticks(range(0, 101, 10))\n",
    "plt.show()"
   ]
  },
  {
   "cell_type": "markdown",
   "metadata": {},
   "source": [
    "There is only two basis (standard and diagonal), therefore it's there's only a 50% chance of guessing the correct basis. (blue curve)\n",
    "\n",
    "For a single qubit system, the chance of yielding the correct bit at random is 75%. However, this seems to converge towards 50% as the number of qubits increase. (orange curve)"
   ]
  },
  {
   "cell_type": "markdown",
   "metadata": {},
   "source": [
    "## 4 Transmitting a Hashed message "
   ]
  },
  {
   "cell_type": "markdown",
   "metadata": {},
   "source": [
    "### 4.1 Import libraries"
   ]
  },
  {
   "cell_type": "code",
   "execution_count": 11,
   "metadata": {},
   "outputs": [],
   "source": [
    "import hashlib"
   ]
  },
  {
   "cell_type": "markdown",
   "metadata": {},
   "source": [
    "### 4.2 Create a SHA256 Hash"
   ]
  },
  {
   "cell_type": "code",
   "execution_count": 12,
   "metadata": {},
   "outputs": [],
   "source": [
    "secret_message = \"https://youtu.be/dQw4w9WgXcQ\"\n",
    "\n",
    "m = hashlib.sha256()\n",
    "m.update(secret_message.encode(\"utf-8\"))\n",
    "hashed_message = m.hexdigest()"
   ]
  },
  {
   "cell_type": "markdown",
   "metadata": {},
   "source": [
    "### 4.3 Convert Hash into Binary Data"
   ]
  },
  {
   "cell_type": "code",
   "execution_count": 13,
   "metadata": {},
   "outputs": [
    {
     "name": "stdout",
     "output_type": "stream",
     "text": [
      "61e610a9d7fd37bc9df752aa7dd374f0852a4ab0d59bd3cad47afa5cb604fd01\n",
      "['0110', '0001', '1110', '0110', '0001', '0000', '1010', '1001', '1101', '0111', '1111', '1101', '0011', '0111', '1011', '1100', '1001', '1101', '1111', '0111', '0101', '0010', '1010', '1010', '0111', '1101', '1101', '0011', '0111', '0100', '1111', '0000', '1000', '0101', '0010', '1010', '0100', '1010', '1011', '0000', '1101', '0101', '1001', '1011', '1101', '0011', '1100', '1010', '1101', '0100', '0111', '1010', '1111', '1010', '0101', '1100', '1011', '0110', '0000', '0100', '1111', '1101', '0000', '0001']\n"
     ]
    }
   ],
   "source": [
    "# convert each hexadecimal character to binary bytes\n",
    "binary_messages = []\n",
    "for c in hashed_message:\n",
    "    binary_messages.append(format(int(c, 16), \"04b\"))\n",
    "\n",
    "print(hashed_message)\n",
    "print(binary_messages)"
   ]
  },
  {
   "cell_type": "markdown",
   "metadata": {},
   "source": [
    "### 4.4 Encode into Qubits"
   ]
  },
  {
   "cell_type": "code",
   "execution_count": 14,
   "metadata": {},
   "outputs": [
    {
     "name": "stdout",
     "output_type": "stream",
     "text": [
      "[[0, 1, 3, 2], [2, 2, 2, 1], [1, 3, 1, 2], [0, 3, 1, 2], [2, 2, 2, 3], [0, 2, 0, 0], [3, 2, 3, 0], [3, 0, 2, 1], [3, 1, 2, 1], [0, 3, 1, 1], [3, 3, 3, 3], [3, 3, 0, 3], [0, 0, 1, 3], [0, 1, 3, 1], [1, 0, 3, 1], [3, 1, 0, 2], [1, 2, 2, 3], [1, 3, 0, 3], [1, 1, 1, 1], [2, 1, 1, 1], [0, 1, 2, 3], [0, 2, 1, 0], [3, 0, 1, 0], [1, 0, 3, 2], [2, 3, 3, 3], [1, 1, 0, 3], [1, 3, 2, 3], [2, 2, 3, 1], [2, 3, 3, 1], [2, 1, 2, 0], [3, 3, 3, 1], [2, 0, 2, 2], [3, 2, 0, 2], [2, 1, 2, 3], [2, 0, 1, 2], [1, 2, 1, 2], [2, 1, 0, 2], [1, 0, 3, 2], [3, 2, 3, 1], [0, 0, 2, 0], [3, 1, 2, 1], [0, 1, 2, 3], [1, 2, 2, 3], [1, 0, 1, 3], [1, 1, 0, 3], [2, 2, 3, 3], [1, 1, 0, 2], [1, 2, 1, 2], [1, 1, 2, 3], [0, 3, 0, 0], [0, 3, 3, 3], [3, 2, 3, 2], [1, 3, 3, 3], [3, 0, 1, 0], [2, 1, 0, 3], [3, 3, 0, 2], [3, 2, 3, 3], [0, 1, 3, 2], [0, 0, 2, 2], [0, 3, 0, 2], [1, 3, 3, 3], [3, 3, 0, 1], [0, 0, 2, 0], [2, 0, 2, 3]]\n"
     ]
    }
   ],
   "source": [
    "circuits = []\n",
    "states = []\n",
    "for binary in binary_messages:\n",
    "    qc = QuantumCircuit(4, 4)\n",
    "    state_cache = []\n",
    "    for i in range(4):\n",
    "        basis = random.randint(0, 1)\n",
    "        bit = int(binary[i])\n",
    "        state = 2 * basis + bit\n",
    "        state_cache.append(state)\n",
    "        qc = init_qubit(qc, i, state)\n",
    "    circuits.append(qc)\n",
    "    states.append(state_cache)\n",
    "\n",
    "print(states)"
   ]
  },
  {
   "cell_type": "markdown",
   "metadata": {},
   "source": [
    "### 4.5 Measure Received Qubits by selecting Random Basis"
   ]
  },
  {
   "cell_type": "code",
   "execution_count": 15,
   "metadata": {},
   "outputs": [
    {
     "name": "stdout",
     "output_type": "stream",
     "text": [
      "61b495e9e75c6ff83de747ba393375f0c3ebdb3c57dbb3ead468a2bc90057809\n"
     ]
    }
   ],
   "source": [
    "constructed_hash = \"\"\n",
    "\n",
    "for i in range(len(circuits)):\n",
    "    qc = circuits[i]\n",
    "    chosen_basis = [random.randint(0, 1) for i in range(4)]\n",
    "    qc = measure_circuit(qc, chosen_basis)    \n",
    "    qc.measure_all(add_bits=False)\n",
    "    \n",
    "    result, circ = run_circuit(qc)\n",
    "    counts = result.get_counts(circ)\n",
    "    results_str = highest_probability_result(counts)[::-1]\n",
    "    # convert the binary string to a hexadecimal character\n",
    "    constructed_hash += hex(int(results_str, 2))[2:]\n",
    "\n",
    "print(constructed_hash)\n"
   ]
  },
  {
   "cell_type": "markdown",
   "metadata": {},
   "source": [
    "### 4.6 Compare Reconstructed Hash with Original Hash"
   ]
  },
  {
   "cell_type": "code",
   "execution_count": 16,
   "metadata": {},
   "outputs": [
    {
     "name": "stdout",
     "output_type": "stream",
     "text": [
      "Matches: 19 (29.6875%)\n"
     ]
    }
   ],
   "source": [
    "def validate_hashes(hashed_message, constructed_hash):\n",
    "    matches = 0\n",
    "    for i in range(len(hashed_message)):\n",
    "        if hashed_message[i] == constructed_hash[i]:\n",
    "            matches += 1\n",
    "    return matches\n",
    "\n",
    "matches = validate_hashes(hashed_message, constructed_hash)\n",
    "print(f\"Matches: {matches} ({matches/64*100}%)\")\n"
   ]
  }
 ],
 "metadata": {
  "kernelspec": {
   "display_name": "env",
   "language": "python",
   "name": "python3"
  },
  "language_info": {
   "codemirror_mode": {
    "name": "ipython",
    "version": 3
   },
   "file_extension": ".py",
   "mimetype": "text/x-python",
   "name": "python",
   "nbconvert_exporter": "python",
   "pygments_lexer": "ipython3",
   "version": "3.12.2"
  }
 },
 "nbformat": 4,
 "nbformat_minor": 2
}
