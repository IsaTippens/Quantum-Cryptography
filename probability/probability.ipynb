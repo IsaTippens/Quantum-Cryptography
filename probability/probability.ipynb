{
 "cells": [
  {
   "cell_type": "markdown",
   "metadata": {},
   "source": [
    "## 1. Setup"
   ]
  },
  {
   "cell_type": "markdown",
   "metadata": {},
   "source": [
    "### 1.1 Import libraries"
   ]
  },
  {
   "cell_type": "code",
   "execution_count": 6,
   "metadata": {},
   "outputs": [],
   "source": [
    "from qiskit import QuantumCircuit\n",
    "from qiskit import transpile\n",
    "from qiskit_aer import AerSimulator\n",
    "import random"
   ]
  },
  {
   "cell_type": "markdown",
   "metadata": {},
   "source": [
    "### 1.2 Quantum Circuit Helper methods "
   ]
  },
  {
   "cell_type": "code",
   "execution_count": 7,
   "metadata": {},
   "outputs": [],
   "source": [
    "def run_circuit(circuit, shots=1):\n",
    "    simulator = AerSimulator()\n",
    "    circ = transpile(qc, simulator)\n",
    "\n",
    "    job = simulator.run(circ, shots=shots)\n",
    "    return job.result(), circ"
   ]
  },
  {
   "cell_type": "markdown",
   "metadata": {},
   "source": [
    "## 2. Test Single Qubit"
   ]
  },
  {
   "cell_type": "markdown",
   "metadata": {},
   "source": [
    "### 2.1 Create Encoded Qubits"
   ]
  },
  {
   "cell_type": "code",
   "execution_count": 8,
   "metadata": {},
   "outputs": [],
   "source": [
    "def init_qubit(qc, idx, state):\n",
    "    if state == 0:\n",
    "        pass\n",
    "    elif state == 1:\n",
    "        qc.x(idx)\n",
    "    elif state == 2:\n",
    "        qc.h(idx)\n",
    "    elif state == 3:\n",
    "        qc.x(idx)\n",
    "        qc.h(idx)\n",
    "    return qc\n",
    "\n",
    "def measure_in_basis(qc, idx, basis):\n",
    "    if basis == 0:\n",
    "        pass\n",
    "    elif basis == 1:\n",
    "        qc.h(idx)\n",
    "    return qc\n",
    "\n",
    "# |0>, |+> => 0\n",
    "# |1>, |-> => 1\n",
    "def state_to_bit(state):\n",
    "    if state % 2 == 0:\n",
    "        return 0\n",
    "    else:\n",
    "        return 1\n",
    "\n",
    "def validate(state, guess, result):\n",
    "    if guess == 0 and state in [0, 1]:\n",
    "        guess_correct = True\n",
    "    elif guess == 1 and state in [2, 3]:\n",
    "        guess_correct = True\n",
    "    else:\n",
    "        guess_correct = False\n",
    "        \n",
    "    result_correct = state_to_bit(state) == result\n",
    "\n",
    "    return guess_correct, result_correct\n"
   ]
  },
  {
   "cell_type": "markdown",
   "metadata": {},
   "source": [
    "### 2.2 Run 2048 times\n",
    "\n",
    "After 2048 samples, the number of correctly measured qubits should be ~75%. There is a 50% chance of guessing the correct basis."
   ]
  },
  {
   "cell_type": "code",
   "execution_count": null,
   "metadata": {},
   "outputs": [],
   "source": [
    "n = 2048\n",
    "correct_guesses = 0\n",
    "correct_results = 0\n",
    "\n",
    "\n",
    "for i in range(n):\n",
    "    state = random.randint(0, 3)\n",
    "    qc = QuantumCircuit(1,1)\n",
    "    qc = init_qubit(qc, 0, state)\n",
    "\n",
    "    # guess state to measure\n",
    "    # 0: standard, 1: horizontal\n",
    "    guess = random.randint(0, 1)\n",
    "    qc = measure_in_basis(qc, 0, guess)\n",
    "\n",
    "    qc.measure_all(add_bits=False)\n",
    "\n",
    "    result, circ = run_circuit(qc)\n",
    "    counts = result.get_counts(circ)\n",
    "    guess_correct, result_correct = validate(state, guess, int(list(counts.keys())[0]))\n",
    "    \n",
    "    if guess_correct:\n",
    "        correct_guesses += 1\n",
    "    if result_correct:\n",
    "        correct_results += 1\n",
    "\n",
    "print(f\"Correct guesses: {correct_guesses} ({correct_guesses/n*100}%)\")\n",
    "print(f\"Correct results: {correct_results} ({correct_results/n*100}%)\")\n"
   ]
  },
  {
   "cell_type": "markdown",
   "metadata": {},
   "source": [
    "## 3. Scale Number of Qubits"
   ]
  },
  {
   "cell_type": "markdown",
   "metadata": {},
   "source": [
    "### 3.1 Helper methods\n"
   ]
  },
  {
   "cell_type": "code",
   "execution_count": 10,
   "metadata": {},
   "outputs": [],
   "source": [
    "def generate_state_set(n):\n",
    "    states = []\n",
    "    for i in range(n):\n",
    "        state = random.randint(0, 3)\n",
    "        states.append(state)\n",
    "    return states\n",
    "\n",
    "def generate_circuit_from_state_set(states):\n",
    "    n = len(states)\n",
    "    qc = QuantumCircuit(n, n)\n",
    "    for i in range(n):\n",
    "        qc = init_qubit(qc, i, states[i])\n",
    "\n",
    "    return qc\n",
    "\n",
    "def generate_guess_set(n):\n",
    "    guesses = []\n",
    "    for i in range(n):\n",
    "        guess = random.randint(0, 1)\n",
    "        guesses.append(guess)\n",
    "    return guesses\n",
    "\n",
    "def measure_circuit(qc, guesses):\n",
    "    n = len(guesses)\n",
    "    for i in range(n):\n",
    "        qc = measure_in_basis(qc, i, guesses[i])\n",
    "    return qc\n",
    "\n",
    "\n",
    "def validate_sets(states, guesses, results):\n",
    "    correct_results = False\n",
    "    correct_bits = 0\n",
    "    for i in range(len(states)):\n",
    "        state = states[i]\n",
    "        state_bit = state_to_bit(state)\n",
    "        result_bit = results[i]\n",
    "        if state_bit == result_bit:\n",
    "            correct_bits += 1\n",
    "\n",
    "    if correct_bits == len(states):\n",
    "        correct_results = True\n",
    "\n",
    "    # confirm that the guess was correct\n",
    "    correct_guesses = 0\n",
    "    for i in range(len(states)):\n",
    "        state = states[i]\n",
    "        guess = guesses[i]\n",
    "        if guess == 0 and state in [0, 1]:\n",
    "            correct_guesses += 1\n",
    "        elif guess == 1 and state in [2, 3]:\n",
    "            correct_guesses += 1\n",
    "    # number of correct guesses, correct result(true/false), number of correct bits\n",
    "    return correct_guesses, correct_results, correct_bits\n",
    "\n",
    "    \n",
    "\n",
    "def highest_probability_result(counts):\n",
    "    # choose the key with the highest value\n",
    "    return max(counts, key=counts.get)\n",
    "    \n",
    "\n"
   ]
  },
  {
   "cell_type": "markdown",
   "metadata": {},
   "source": [
    "### 3.2 Test up to 20 Qubits"
   ]
  },
  {
   "cell_type": "code",
   "execution_count": null,
   "metadata": {},
   "outputs": [],
   "source": [
    "measurement_results = []\n",
    "# run the experiment for 1 to 20 qubits\n",
    "for i in range(20):\n",
    "    total_correct_guesses = 0\n",
    "    total_correct_results = 0\n",
    "    total_correct_bits = 0\n",
    "    # run the experiment n times\n",
    "    # with unique sets of qubits and guesses\n",
    "    for j in range(n):\n",
    "        # generate a set of n encoded qubits\n",
    "        state = generate_state_set(i + 1)\n",
    "        qc = generate_circuit_from_state_set(state)\n",
    "\n",
    "        # generate a set of n basis guesses\n",
    "        guess = generate_guess_set(i + 1)\n",
    "        # measure each qubit in the basis\n",
    "        qc = measure_circuit(qc, guess)\n",
    "\n",
    "        # run the circuit\n",
    "        qc.measure_all(add_bits=False)\n",
    "        result, circ = run_circuit(qc)\n",
    "        counts = result.get_counts(circ)\n",
    "        results_str = highest_probability_result(counts)\n",
    "        results = [int(c) for c in results_str]\n",
    "        \n",
    "        correct_guesses, correct_results, correct_bits = validate_sets(state, guess, results)\n",
    "        total_correct_guesses += correct_guesses\n",
    "        total_correct_bits += correct_bits\n",
    "        if correct_results:\n",
    "            total_correct_results += 1\n",
    "    print(f\"{i + 1} Qubits\")\n",
    "    print(f\"Correct guesses: {total_correct_guesses} ({total_correct_guesses/((i + 1) * n)*100}%)\")\n",
    "    print(f\"Correct bits: {total_correct_bits} ({total_correct_bits/((i + 1) * n)*100}%)\")\n",
    "    print(f\"Correct results: {total_correct_results} ({total_correct_results/n*100}%)\")\n",
    "    measurement_results.append({\n",
    "        \"qubits\": i + 1,\n",
    "        \"correct_guesses\": total_correct_guesses,\n",
    "\n",
    "        \"correct_bits\": total_correct_bits,\n",
    "        \"correct_results\": total_correct_results,\n",
    "        \"correct_results_percent\": total_correct_results/n*100\n",
    "    })"
   ]
  },
  {
   "cell_type": "markdown",
   "metadata": {},
   "source": [
    "### 3.3 Plot Results"
   ]
  },
  {
   "cell_type": "code",
   "execution_count": 29,
   "metadata": {},
   "outputs": [],
   "source": [
    "import matplotlib.pyplot as plt\n",
    "\n",
    "correct_results = [r[\"correct_results_percent\"] for r in measurement_results]\n",
    "correct_guesses = []\n",
    "for i in range(20):\n",
    "    correct_guesses.append(measurement_results[i][\"correct_guesses\"] / ((i + 1) * n) * 100)\n",
    "correct_bits = []\n",
    "for i in range(20):\n",
    "    correct_bits.append(measurement_results[i][\"correct_bits\"] / ((i + 1) * n) * 100)\n",
    "    \n",
    "qubits = [r[\"qubits\"] for r in measurement_results]"
   ]
  },
  {
   "cell_type": "markdown",
   "metadata": {},
   "source": [
    "### 3.3.1 Plot Actual Measurement vs Theoretical Measurement"
   ]
  },
  {
   "cell_type": "code",
   "execution_count": null,
   "metadata": {},
   "outputs": [],
   "source": [
    "plt.plot(qubits, [(3/4)**n * 100 for n in qubits], label=\"Theoretical chance of measuring all n qubits correctly - (3/4)^n\")\n",
    "plt.plot(qubits, correct_results, label=\"Actual % of correctly measuring all n qubits\")\n",
    "\n",
    "plt.legend()\n",
    "\n",
    "plt.xlabel(\"Number of Qubits\")\n",
    "plt.ylabel(\"Percentage\")\n",
    "plt.title(\"Actual vs Theoretical Measurements of Guessing Qubit States\")\n",
    "\n",
    "plt.xticks(range(1, 21))\n",
    "plt.yticks(range(0, 101, 10))\n",
    "plt.show()\n",
    "\n"
   ]
  },
  {
   "cell_type": "markdown",
   "metadata": {},
   "source": [
    "Wiesner's paper states that there's a 75% chance of measuring the correct result from a single encoded qubit. This scales expontentially as (3/4)^n where n is the number of qubits in the system. (blue curve)\n",
    "\n",
    "In this graph, we can see that our actual measurements (orange) follows the curve, but not too tightly."
   ]
  },
  {
   "cell_type": "markdown",
   "metadata": {},
   "source": [
    "### 3.3.2 Plot Guessing individual bit results"
   ]
  },
  {
   "cell_type": "code",
   "execution_count": null,
   "metadata": {},
   "outputs": [],
   "source": [
    "plt.plot(qubits, correct_guesses, label=\"% of correct guesses\")\n",
    "plt.plot(qubits, correct_bits, label=\"% of correct bits\")\n",
    "plt.legend()\n",
    "plt.xlabel(\"Number of Qubits\")\n",
    "plt.ylabel(\"Percentage\")\n",
    "plt.title(\"Correct Guesses and Correct Bits\")\n",
    "plt.xticks(range(1, 21))\n",
    "plt.yticks(range(50, 90, 10))\n",
    "plt.show()"
   ]
  },
  {
   "cell_type": "markdown",
   "metadata": {},
   "source": [
    "There is only two basis (standard and diagonal), therefore it's there's only a 50% chance of guessing the correct basis. (blue curve)\n",
    "\n",
    "For a single qubit system, the chance of yielding the correct bit at random is 75%. However, this seems to converge towards 50% as the number of qubits increase. (orange curve)"
   ]
  },
  {
   "cell_type": "markdown",
   "metadata": {},
   "source": [
    "## 4 Transmitting a Hashed message "
   ]
  },
  {
   "cell_type": "markdown",
   "metadata": {},
   "source": [
    "### 4.1 Import libraries"
   ]
  },
  {
   "cell_type": "code",
   "execution_count": 48,
   "metadata": {},
   "outputs": [],
   "source": [
    "import hashlib"
   ]
  },
  {
   "cell_type": "markdown",
   "metadata": {},
   "source": [
    "### 4.2 Create a SHA256 Hash"
   ]
  },
  {
   "cell_type": "code",
   "execution_count": 52,
   "metadata": {},
   "outputs": [],
   "source": [
    "secret_message = \"https://youtu.be/dQw4w9WgXcQ\"\n",
    "\n",
    "m = hashlib.sha256()\n",
    "m.update(secret_message.encode(\"utf-8\"))\n",
    "hashed_message = m.hexdigest()"
   ]
  },
  {
   "cell_type": "markdown",
   "metadata": {},
   "source": [
    "### 4.3 Convert Hash into Binary Data"
   ]
  },
  {
   "cell_type": "code",
   "execution_count": null,
   "metadata": {},
   "outputs": [],
   "source": [
    "# convert each hexadecimal character to binary bytes\n",
    "binary_messages = []\n",
    "for c in hashed_message:\n",
    "    binary_messages.append(format(int(c, 16), \"04b\"))\n",
    "\n",
    "print(hashed_message)\n",
    "print(binary_messages)"
   ]
  },
  {
   "cell_type": "markdown",
   "metadata": {},
   "source": [
    "### 4.4 Encode into Qubits"
   ]
  },
  {
   "cell_type": "code",
   "execution_count": null,
   "metadata": {},
   "outputs": [],
   "source": [
    "circuits = []\n",
    "states = []\n",
    "for binary in binary_messages:\n",
    "    qc = QuantumCircuit(4, 4)\n",
    "    state_cache = []\n",
    "    for i in range(4):\n",
    "        basis = random.randint(0, 1)\n",
    "        bit = int(binary[i])\n",
    "        state = 2 * basis + bit\n",
    "        state_cache.append(state)\n",
    "        qc = init_qubit(qc, i, state)\n",
    "    circuits.append(qc)\n",
    "    states.append(state_cache)\n",
    "\n",
    "print(states)"
   ]
  },
  {
   "cell_type": "markdown",
   "metadata": {},
   "source": [
    "### 4.5 Measure Received Qubits by selecting Random Basis"
   ]
  },
  {
   "cell_type": "code",
   "execution_count": null,
   "metadata": {},
   "outputs": [],
   "source": [
    "constructed_hash = \"\"\n",
    "\n",
    "for i in range(len(circuits)):\n",
    "    qc = circuits[i]\n",
    "    chosen_basis = [random.randint(0, 1) for i in range(4)]\n",
    "    qc = measure_circuit(qc, chosen_basis)    \n",
    "    qc.measure_all(add_bits=False)\n",
    "    \n",
    "    result, circ = run_circuit(qc)\n",
    "    counts = result.get_counts(circ)\n",
    "    results_str = highest_probability_result(counts)\n",
    "    # convert the binary string to a hexadecimal character\n",
    "    constructed_hash += hex(int(results_str, 2))[2:]\n",
    "\n",
    "print(constructed_hash)\n"
   ]
  }
 ],
 "metadata": {
  "kernelspec": {
   "display_name": "env",
   "language": "python",
   "name": "python3"
  },
  "language_info": {
   "codemirror_mode": {
    "name": "ipython",
    "version": 3
   },
   "file_extension": ".py",
   "mimetype": "text/x-python",
   "name": "python",
   "nbconvert_exporter": "python",
   "pygments_lexer": "ipython3",
   "version": "3.12.2"
  }
 },
 "nbformat": 4,
 "nbformat_minor": 2
}
